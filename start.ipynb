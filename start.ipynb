{
 "cells": [
  {
   "cell_type": "code",
   "execution_count": 13,
   "metadata": {},
   "outputs": [],
   "source": [
    "import ccxt"
   ]
  },
  {
   "cell_type": "code",
   "execution_count": 14,
   "metadata": {},
   "outputs": [
    {
     "name": "stdout",
     "output_type": "stream",
     "text": [
      "['_1btcxe', 'acx', 'adara', 'allcoin', 'anxpro', 'bcex', 'bequant', 'bibox', 'bigone', 'binance', 'binanceje', 'binanceus', 'bit2c', 'bitbank', 'bitbay', 'bitfinex', 'bitfinex2', 'bitflyer', 'bitforex', 'bithumb', 'bitkk', 'bitlish', 'bitmart', 'bitmex', 'bitso', 'bitstamp', 'bitstamp1', 'bittrex', 'bitz', 'bl3p', 'bleutrade', 'braziliex', 'btcalpha', 'btcbox', 'btcchina', 'btcmarkets', 'btctradeim', 'btctradeua', 'btcturk', 'buda', 'cex', 'chilebit', 'cobinhood', 'coinbase', 'coinbaseprime', 'coinbasepro', 'coincheck', 'coinegg', 'coinex', 'coinexchange', 'coinfalcon', 'coinfloor', 'coingi', 'coinmarketcap', 'coinmate', 'coinone', 'coinspot', 'cointiger', 'coolcoin', 'coss', 'crex24', 'deribit', 'digifinex', 'dsx', 'dx', 'exmo', 'exx', 'fcoin', 'fcoinjp', 'flowbtc', 'foxbit', 'fybse', 'gateio', 'gemini', 'hitbtc', 'hitbtc2', 'huobipro', 'huobiru', 'ice3x', 'idex', 'independentreserve', 'indodax', 'itbit', 'kkex', 'kraken', 'kucoin', 'kucoin2', 'kuna', 'lakebtc', 'latoken', 'lbank', 'liquid', 'livecoin', 'luno', 'lykke', 'mandala', 'mercado', 'mixcoins', 'negociecoins', 'oceanex', 'okcoincny', 'okcoinusd', 'okex', 'okex3', 'paymium', 'poloniex', 'rightbtc', 'southxchange', 'stronghold', 'surbitcoin', 'theocean', 'therock', 'tidebit', 'tidex', 'upbit', 'vaultoro', 'vbtc', 'virwox', 'whitebit', 'xbtce', 'yobit', 'zaif', 'zb']\n"
     ]
    }
   ],
   "source": [
    "print(ccxt.exchanges)"
   ]
  },
  {
   "cell_type": "code",
   "execution_count": 15,
   "metadata": {},
   "outputs": [],
   "source": [
    "bitmex_test_net = ccxt.bitmex()\n",
    "bitmex_test_net.proxies = {\n",
    "    'http': 'http://127.0.0.1:8089',\n",
    "    'https': 'http://127.0.0.1:8089',\n",
    "}"
   ]
  },
  {
   "cell_type": "code",
   "execution_count": 16,
   "metadata": {},
   "outputs": [
    {
     "data": {
      "text/plain": [
       "{'test': 'https://testnet.bitmex.com',\n",
       " 'logo': 'https://user-images.githubusercontent.com/1294454/27766319-f653c6e6-5ed4-11e7-933d-f0bc3699ae8f.jpg',\n",
       " 'api': 'https://www.bitmex.com',\n",
       " 'www': 'https://www.bitmex.com',\n",
       " 'doc': ['https://www.bitmex.com/app/apiOverview',\n",
       "  'https://github.com/BitMEX/api-connectors/tree/master/official-http'],\n",
       " 'fees': 'https://www.bitmex.com/app/fees',\n",
       " 'referral': 'https://www.bitmex.com/register/rm3C16'}"
      ]
     },
     "execution_count": 16,
     "metadata": {},
     "output_type": "execute_result"
    }
   ],
   "source": [
    "bitmex_test_net.urls"
   ]
  },
  {
   "cell_type": "code",
   "execution_count": 17,
   "metadata": {},
   "outputs": [],
   "source": [
    "if 'test' in bitmex_test_net.urls:\n",
    "    bitmex_test_net.urls['api'] = bitmex_test_net.urls['test']\n",
    "    bitmex_test_net.apiKey = 'zz_FIhy9aeofmJXZrrsKq7pY'\n",
    "    bitmex_test_net.secret = '5NcZyS32VT94ynVa3PNYtm2cwVR6a6y79RiHG6hwqtPH1KID'\n",
    "    symbol = 'BTC/USD'"
   ]
  },
  {
   "cell_type": "code",
   "execution_count": 18,
   "metadata": {},
   "outputs": [
    {
     "data": {
      "text/plain": [
       "8368.5"
      ]
     },
     "execution_count": 18,
     "metadata": {},
     "output_type": "execute_result"
    }
   ],
   "source": [
    "bitmex_test_net.fetchTicker(symbol)['last']"
   ]
  },
  {
   "cell_type": "code",
   "execution_count": 19,
   "metadata": {},
   "outputs": [
    {
     "data": {
      "text/plain": [
       "{'bids': [[8367.5, 382041.0],\n",
       "  [8367.0, 3777.0],\n",
       "  [8366.5, 13541.0],\n",
       "  [8366.0, 30285.0],\n",
       "  [8365.5, 1092.0],\n",
       "  [8365.0, 225.0],\n",
       "  [8364.5, 889.0],\n",
       "  [8364.0, 425.0],\n",
       "  [8363.5, 2221.0],\n",
       "  [8363.0, 1270.0],\n",
       "  [8362.0, 2219.0],\n",
       "  [8361.5, 4580.0],\n",
       "  [8361.0, 30000.0],\n",
       "  [8360.5, 205.0],\n",
       "  [8360.0, 2776.0],\n",
       "  [8359.5, 3021.0],\n",
       "  [8359.0, 29.0],\n",
       "  [8358.5, 22.0],\n",
       "  [8358.0, 1250.0],\n",
       "  [8357.5, 1201.0],\n",
       "  [8356.5, 46576.0],\n",
       "  [8356.0, 87436.0],\n",
       "  [8355.5, 849.0],\n",
       "  [8355.0, 86.0],\n",
       "  [8354.5, 161.0]],\n",
       " 'asks': [[8368.0, 505.0],\n",
       "  [8368.5, 10098.0],\n",
       "  [8369.0, 570.0],\n",
       "  [8369.5, 380.0],\n",
       "  [8370.0, 485.0],\n",
       "  [8370.5, 95.0],\n",
       "  [8371.0, 25.0],\n",
       "  [8371.5, 1597.0],\n",
       "  [8372.0, 25.0],\n",
       "  [8372.5, 1068.0],\n",
       "  [8373.0, 20300.0],\n",
       "  [8373.5, 1757.0],\n",
       "  [8374.0, 100.0],\n",
       "  [8374.5, 1869.0],\n",
       "  [8375.0, 1267.0],\n",
       "  [8375.5, 24786.0],\n",
       "  [8376.0, 664.0],\n",
       "  [8376.5, 891.0],\n",
       "  [8377.0, 25.0],\n",
       "  [8378.0, 1802.0],\n",
       "  [8378.5, 1060.0],\n",
       "  [8379.5, 295.0],\n",
       "  [8380.0, 718.0],\n",
       "  [8380.5, 400.0],\n",
       "  [8381.5, 51.0]],\n",
       " 'timestamp': None,\n",
       " 'datetime': None,\n",
       " 'nonce': None}"
      ]
     },
     "execution_count": 19,
     "metadata": {},
     "output_type": "execute_result"
    }
   ],
   "source": [
    "bitmex_test_net.fetchOrderBook(symbol)"
   ]
  },
  {
   "cell_type": "code",
   "execution_count": 21,
   "metadata": {},
   "outputs": [
    {
     "data": {
      "text/plain": [
       "{'info': [{'account': 11951,\n",
       "   'currency': 'XBt',\n",
       "   'riskLimit': 1000000000000,\n",
       "   'prevState': '',\n",
       "   'state': '',\n",
       "   'action': '',\n",
       "   'amount': 140819986,\n",
       "   'pendingCredit': 0,\n",
       "   'pendingDebit': 0,\n",
       "   'confirmedDebit': 0,\n",
       "   'prevRealisedPnl': 0,\n",
       "   'prevUnrealisedPnl': 0,\n",
       "   'grossComm': 0,\n",
       "   'grossOpenCost': 0,\n",
       "   'grossOpenPremium': 0,\n",
       "   'grossExecCost': 0,\n",
       "   'grossMarkValue': 0,\n",
       "   'riskValue': 0,\n",
       "   'taxableMargin': 0,\n",
       "   'initMargin': 0,\n",
       "   'maintMargin': 0,\n",
       "   'sessionMargin': 0,\n",
       "   'targetExcessMargin': 0,\n",
       "   'varMargin': 0,\n",
       "   'realisedPnl': 0,\n",
       "   'unrealisedPnl': 0,\n",
       "   'indicativeTax': 0,\n",
       "   'unrealisedProfit': 0,\n",
       "   'syntheticMargin': None,\n",
       "   'walletBalance': 140819986,\n",
       "   'marginBalance': 140819986,\n",
       "   'marginBalancePcnt': 1,\n",
       "   'marginLeverage': 0,\n",
       "   'marginUsedPcnt': 0,\n",
       "   'excessMargin': 140819986,\n",
       "   'excessMarginPcnt': 1,\n",
       "   'availableMargin': 140819986,\n",
       "   'withdrawableMargin': 140819986,\n",
       "   'timestamp': '2019-08-30T20:25:26.572Z',\n",
       "   'grossLastValue': 0,\n",
       "   'commission': None}],\n",
       " 'BTC': {'free': 1.40819986, 'used': 0.0, 'total': 1.40819986},\n",
       " 'free': {'BTC': 1.40819986},\n",
       " 'used': {'BTC': 0.0},\n",
       " 'total': {'BTC': 1.40819986}}"
      ]
     },
     "execution_count": 21,
     "metadata": {},
     "output_type": "execute_result"
    }
   ],
   "source": [
    "bitmex_test_net.fetchBalance(params={})"
   ]
  },
  {
   "cell_type": "code",
   "execution_count": 22,
   "metadata": {},
   "outputs": [
    {
     "data": {
      "text/plain": [
       "{'info': {'orderID': '041f5310-f5ea-8496-1473-5905c8ae6996',\n",
       "  'clOrdID': '',\n",
       "  'clOrdLinkID': '',\n",
       "  'account': 11951,\n",
       "  'symbol': 'XBTUSD',\n",
       "  'side': 'Buy',\n",
       "  'simpleOrderQty': None,\n",
       "  'orderQty': 1000,\n",
       "  'price': 6000,\n",
       "  'displayQty': None,\n",
       "  'stopPx': None,\n",
       "  'pegOffsetValue': None,\n",
       "  'pegPriceType': '',\n",
       "  'currency': 'USD',\n",
       "  'settlCurrency': 'XBt',\n",
       "  'ordType': 'Limit',\n",
       "  'timeInForce': 'GoodTillCancel',\n",
       "  'execInst': '',\n",
       "  'contingencyType': '',\n",
       "  'exDestination': 'XBME',\n",
       "  'ordStatus': 'New',\n",
       "  'triggered': '',\n",
       "  'workingIndicator': True,\n",
       "  'ordRejReason': '',\n",
       "  'simpleLeavesQty': None,\n",
       "  'leavesQty': 1000,\n",
       "  'simpleCumQty': None,\n",
       "  'cumQty': 0,\n",
       "  'avgPx': None,\n",
       "  'multiLegReportingType': 'SingleSecurity',\n",
       "  'text': 'Submitted via API.',\n",
       "  'transactTime': '2019-10-14T17:54:06.139Z',\n",
       "  'timestamp': '2019-10-14T17:54:06.139Z'},\n",
       " 'id': '041f5310-f5ea-8496-1473-5905c8ae6996',\n",
       " 'timestamp': 1571075646139,\n",
       " 'datetime': '2019-10-14T17:54:06.139Z',\n",
       " 'lastTradeTimestamp': 1571075646139,\n",
       " 'symbol': 'BTC/USD',\n",
       " 'type': 'limit',\n",
       " 'side': 'buy',\n",
       " 'price': 6000.0,\n",
       " 'amount': 1000.0,\n",
       " 'cost': 0.0,\n",
       " 'average': None,\n",
       " 'filled': 0.0,\n",
       " 'remaining': 1000.0,\n",
       " 'status': 'open',\n",
       " 'fee': None}"
      ]
     },
     "execution_count": 22,
     "metadata": {},
     "output_type": "execute_result"
    }
   ],
   "source": [
    "bitmex_test_net.createOrder(symbol, 'limit', 'buy', 1000, 6000)"
   ]
  },
  {
   "cell_type": "code",
   "execution_count": 23,
   "metadata": {},
   "outputs": [
    {
     "data": {
      "text/plain": [
       "{'info': {'orderID': '56a92d46-f5b1-3a74-12c9-607380f2f093',\n",
       "  'clOrdID': '',\n",
       "  'clOrdLinkID': '',\n",
       "  'account': 11951,\n",
       "  'symbol': 'XBTUSD',\n",
       "  'side': 'Sell',\n",
       "  'simpleOrderQty': None,\n",
       "  'orderQty': 1000,\n",
       "  'price': 9000,\n",
       "  'displayQty': None,\n",
       "  'stopPx': None,\n",
       "  'pegOffsetValue': None,\n",
       "  'pegPriceType': '',\n",
       "  'currency': 'USD',\n",
       "  'settlCurrency': 'XBt',\n",
       "  'ordType': 'Limit',\n",
       "  'timeInForce': 'GoodTillCancel',\n",
       "  'execInst': '',\n",
       "  'contingencyType': '',\n",
       "  'exDestination': 'XBME',\n",
       "  'ordStatus': 'New',\n",
       "  'triggered': '',\n",
       "  'workingIndicator': True,\n",
       "  'ordRejReason': '',\n",
       "  'simpleLeavesQty': None,\n",
       "  'leavesQty': 1000,\n",
       "  'simpleCumQty': None,\n",
       "  'cumQty': 0,\n",
       "  'avgPx': None,\n",
       "  'multiLegReportingType': 'SingleSecurity',\n",
       "  'text': 'Submitted via API.',\n",
       "  'transactTime': '2019-10-14T17:55:30.999Z',\n",
       "  'timestamp': '2019-10-14T17:55:30.999Z'},\n",
       " 'id': '56a92d46-f5b1-3a74-12c9-607380f2f093',\n",
       " 'timestamp': 1571075730999,\n",
       " 'datetime': '2019-10-14T17:55:30.999Z',\n",
       " 'lastTradeTimestamp': 1571075730999,\n",
       " 'symbol': 'BTC/USD',\n",
       " 'type': 'limit',\n",
       " 'side': 'sell',\n",
       " 'price': 9000.0,\n",
       " 'amount': 1000.0,\n",
       " 'cost': 0.0,\n",
       " 'average': None,\n",
       " 'filled': 0.0,\n",
       " 'remaining': 1000.0,\n",
       " 'status': 'open',\n",
       " 'fee': None}"
      ]
     },
     "execution_count": 23,
     "metadata": {},
     "output_type": "execute_result"
    }
   ],
   "source": [
    "bitmex_test_net.createOrder(symbol, 'limit', 'sell', 1000, 9000)"
   ]
  },
  {
   "cell_type": "code",
   "execution_count": 24,
   "metadata": {},
   "outputs": [
    {
     "data": {
      "text/plain": [
       "{'info': {'orderID': 'ad5c50ad-1f8a-f83b-24bd-7c7a2f19b01e',\n",
       "  'clOrdID': '',\n",
       "  'clOrdLinkID': '',\n",
       "  'account': 11951,\n",
       "  'symbol': 'XBTUSD',\n",
       "  'side': 'Sell',\n",
       "  'simpleOrderQty': None,\n",
       "  'orderQty': 1000,\n",
       "  'price': 8380.5,\n",
       "  'displayQty': None,\n",
       "  'stopPx': None,\n",
       "  'pegOffsetValue': None,\n",
       "  'pegPriceType': '',\n",
       "  'currency': 'USD',\n",
       "  'settlCurrency': 'XBt',\n",
       "  'ordType': 'Market',\n",
       "  'timeInForce': 'ImmediateOrCancel',\n",
       "  'execInst': '',\n",
       "  'contingencyType': '',\n",
       "  'exDestination': 'XBME',\n",
       "  'ordStatus': 'Filled',\n",
       "  'triggered': '',\n",
       "  'workingIndicator': False,\n",
       "  'ordRejReason': '',\n",
       "  'simpleLeavesQty': None,\n",
       "  'leavesQty': 0,\n",
       "  'simpleCumQty': None,\n",
       "  'cumQty': 1000,\n",
       "  'avgPx': 8381,\n",
       "  'multiLegReportingType': 'SingleSecurity',\n",
       "  'text': 'Submitted via API.',\n",
       "  'transactTime': '2019-10-14T17:56:31.720Z',\n",
       "  'timestamp': '2019-10-14T17:56:31.720Z'},\n",
       " 'id': 'ad5c50ad-1f8a-f83b-24bd-7c7a2f19b01e',\n",
       " 'timestamp': 1571075791720,\n",
       " 'datetime': '2019-10-14T17:56:31.720Z',\n",
       " 'lastTradeTimestamp': 1571075791720,\n",
       " 'symbol': 'BTC/USD',\n",
       " 'type': 'market',\n",
       " 'side': 'sell',\n",
       " 'price': 8380.5,\n",
       " 'amount': 1000.0,\n",
       " 'cost': 8381000.0,\n",
       " 'average': 8381.0,\n",
       " 'filled': 1000.0,\n",
       " 'remaining': 0.0,\n",
       " 'status': 'closed',\n",
       " 'fee': None}"
      ]
     },
     "execution_count": 24,
     "metadata": {},
     "output_type": "execute_result"
    }
   ],
   "source": [
    "bitmex_test_net.createOrder(symbol, 'market', 'sell', 1000)"
   ]
  },
  {
   "cell_type": "code",
   "execution_count": 25,
   "metadata": {},
   "outputs": [
    {
     "data": {
      "text/plain": [
       "{'info': {'orderID': '23e6e4f0-abb4-0c32-a576-cfce2f63225f',\n",
       "  'clOrdID': '',\n",
       "  'clOrdLinkID': '',\n",
       "  'account': 11951,\n",
       "  'symbol': 'XBTUSD',\n",
       "  'side': 'Buy',\n",
       "  'simpleOrderQty': None,\n",
       "  'orderQty': 1000,\n",
       "  'price': 8381,\n",
       "  'displayQty': None,\n",
       "  'stopPx': None,\n",
       "  'pegOffsetValue': None,\n",
       "  'pegPriceType': '',\n",
       "  'currency': 'USD',\n",
       "  'settlCurrency': 'XBt',\n",
       "  'ordType': 'Market',\n",
       "  'timeInForce': 'ImmediateOrCancel',\n",
       "  'execInst': '',\n",
       "  'contingencyType': '',\n",
       "  'exDestination': 'XBME',\n",
       "  'ordStatus': 'Filled',\n",
       "  'triggered': '',\n",
       "  'workingIndicator': False,\n",
       "  'ordRejReason': '',\n",
       "  'simpleLeavesQty': None,\n",
       "  'leavesQty': 0,\n",
       "  'simpleCumQty': None,\n",
       "  'cumQty': 1000,\n",
       "  'avgPx': 8381,\n",
       "  'multiLegReportingType': 'SingleSecurity',\n",
       "  'text': 'Submitted via API.',\n",
       "  'transactTime': '2019-10-14T17:57:22.300Z',\n",
       "  'timestamp': '2019-10-14T17:57:22.300Z'},\n",
       " 'id': '23e6e4f0-abb4-0c32-a576-cfce2f63225f',\n",
       " 'timestamp': 1571075842300,\n",
       " 'datetime': '2019-10-14T17:57:22.300Z',\n",
       " 'lastTradeTimestamp': 1571075842300,\n",
       " 'symbol': 'BTC/USD',\n",
       " 'type': 'market',\n",
       " 'side': 'buy',\n",
       " 'price': 8381.0,\n",
       " 'amount': 1000.0,\n",
       " 'cost': 8381000.0,\n",
       " 'average': 8381.0,\n",
       " 'filled': 1000.0,\n",
       " 'remaining': 0.0,\n",
       " 'status': 'closed',\n",
       " 'fee': None}"
      ]
     },
     "execution_count": 25,
     "metadata": {},
     "output_type": "execute_result"
    }
   ],
   "source": [
    "bitmex_test_net.createOrder(symbol, 'market', 'buy', 1000)"
   ]
  },
  {
   "cell_type": "code",
   "execution_count": 37,
   "metadata": {},
   "outputs": [],
   "source": [
    "import pandas as pd\n",
    "import numpy as np\n",
    "import datetime\n",
    "import time"
   ]
  },
  {
   "cell_type": "code",
   "execution_count": 35,
   "metadata": {},
   "outputs": [],
   "source": [
    "limit = 100\n",
    "def get_kline_before(symbol, limit, t_day = 0, t_hour = 0, t_min = 0):\n",
    "    params = {'partial': False}\n",
    "    tm = datetime.datetime.now() - datetime.timedelta(days = t_day, hours = t_hour, minutes = t_min)\n",
    "    stm = tm.timestamp()*1000\n",
    "    timeframe = '1d'\n",
    "    if t_hour > 0:\n",
    "        timeframe = '1h'\n",
    "    elif t_min > 0:\n",
    "        timeframe = '1m'\n",
    "    df = bitmex_test_net.fetch_ohlcv(symbol, timeframe, stm, limit, params)\n",
    "    df = pd.DataFrame(df)\n",
    "    df[0] = df[0].apply(lambda x: time.ctime(x/1000))\n",
    "    df[0] = df[0].apply(pd.to_datetime)\n",
    "    df.columns = ['Date_time', 'open', 'high', 'low', 'close', 'volume']\n",
    "    df = df.set_index('Date_time')\n",
    "    return df"
   ]
  },
  {
   "cell_type": "code",
   "execution_count": 29,
   "metadata": {},
   "outputs": [],
   "source": [
    "def get_tip_data(symbol, limit, t_day = 0, t_hour = 0, t_min = 0):\n",
    "    # get tips data for farther management.\n",
    "    tip_df = get_kline_before(symbol, limit, t_day, t_hour, t_min)\n",
    "    highst = tip_df.high.max()\n",
    "    minist = tip_df.high.min()\n",
    "    mean = tip_df.close.mean()\n",
    "    std = tip_df.close.std()\n",
    "    return {'highst_price': highst, 'minist_price': minist, 'mean_price': mean, 'std_of_price':std}, tip_df"
   ]
  },
  {
   "cell_type": "code",
   "execution_count": 30,
   "metadata": {},
   "outputs": [],
   "source": [
    "def get_tip_data_from_df(tip_df):\n",
    "    #get tips data for farther management.\n",
    "    highst = tip_df.high.max()\n",
    "    minist = tip_df.high.min()\n",
    "    mean = tip_df.close.mean()\n",
    "    std = tip_df.close.std()\n",
    "    return {'highst_price': highst, 'minist_price': minist, 'mean_price': mean, 'std_of_price': std}"
   ]
  },
  {
   "cell_type": "code",
   "execution_count": 38,
   "metadata": {},
   "outputs": [
    {
     "name": "stdout",
     "output_type": "stream",
     "text": [
      "{'highst_price': 12373.5, 'minist_price': 8200.0, 'mean_price': 9903.15, 'std_of_price': 1017.9214679373064}\n"
     ]
    },
    {
     "data": {
      "text/plain": [
       "array([[<matplotlib.axes._subplots.AxesSubplot object at 0x11e660510>]],\n",
       "      dtype=object)"
      ]
     },
     "execution_count": 38,
     "metadata": {},
     "output_type": "execute_result"
    }
   ],
   "source": [
    "_dict, klpd = get_tip_data('BTC/USD', 30*3, t_day = 30*3)\n",
    "print(_dict)\n",
    "klpd.hist('close', bins = 30)"
   ]
  },
  {
   "cell_type": "code",
   "execution_count": 39,
   "metadata": {},
   "outputs": [
    {
     "data": {
      "text/plain": [
       "<matplotlib.axes._subplots.AxesSubplot at 0x11e67b5d0>"
      ]
     },
     "execution_count": 39,
     "metadata": {},
     "output_type": "execute_result"
    },
    {
     "data": {
      "image/png": "[encoded data removed]",
      "text/plain": [
       "<Figure size 432x288 with 1 Axes>"
      ]
     },
     "metadata": {
      "needs_background": "light"
     },
     "output_type": "display_data"
    }
   ],
   "source": [
    "pl = klpd['close']\n",
    "pl.plot()"
   ]
  },
  {
   "cell_type": "code",
   "execution_count": null,
   "metadata": {},
   "outputs": [],
   "source": []
  }
 ],
 "metadata": {
  "kernelspec": {
   "display_name": "Python 3",
   "language": "python",
   "name": "python3"
  },
  "language_info": {
   "codemirror_mode": {
    "name": "ipython",
    "version": 3
   },
   "file_extension": ".py",
   "mimetype": "text/x-python",
   "name": "python",
   "nbconvert_exporter": "python",
   "pygments_lexer": "ipython3",
   "version": "3.7.4"
  }
 },
 "nbformat": 4,
 "nbformat_minor": 4
}
